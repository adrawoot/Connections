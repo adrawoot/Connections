{
  "cells": [
    {
      "cell_type": "code",
      "execution_count": null,
      "metadata": {
        "id": "qbFfzvMGQhh2"
      },
      "outputs": [],
      "source": [
        "# For tips on running notebooks in Google Colab, see\n",
        "# https://pytorch.org/tutorials/beginner/colab\n",
        "%matplotlib inline"
      ]
    },
    {
      "cell_type": "markdown",
      "metadata": {
        "id": "LCmRMPDHQhh3"
      },
      "source": [
        "[Learn the Basics](intro.html) \\|\\| **Quickstart** \\|\\|\n",
        "[Tensors](tensorqs_tutorial.html) \\|\\| [Datasets &\n",
        "DataLoaders](data_tutorial.html) \\|\\|\n",
        "[Transforms](transforms_tutorial.html) \\|\\| [Build\n",
        "Model](buildmodel_tutorial.html) \\|\\|\n",
        "[Autograd](autogradqs_tutorial.html) \\|\\|\n",
        "[Optimization](optimization_tutorial.html) \\|\\| [Save & Load\n",
        "Model](saveloadrun_tutorial.html)\n",
        "\n",
        "Quickstart\n",
        "==========\n",
        "\n",
        "This section runs through the API for common tasks in machine learning.\n",
        "Refer to the links in each section to dive deeper.\n",
        "\n",
        "Working with data\n",
        "-----------------\n",
        "\n",
        "PyTorch has two [primitives to work with\n",
        "data](https://pytorch.org/docs/stable/data.html):\n",
        "`torch.utils.data.DataLoader` and `torch.utils.data.Dataset`. `Dataset`\n",
        "stores the samples and their corresponding labels, and `DataLoader`\n",
        "wraps an iterable around the `Dataset`.\n"
      ]
    },
    {
      "cell_type": "code",
      "execution_count": 2,
      "metadata": {
        "id": "-9929l_1Qhh4"
      },
      "outputs": [],
      "source": [
        "import torch\n",
        "from torch import nn\n",
        "from torch.utils.data import DataLoader\n",
        "from torchvision import datasets\n",
        "from torchvision.transforms import ToTensor\n",
        "from torch.optim import Adam"
      ]
    },
    {
      "cell_type": "markdown",
      "metadata": {
        "id": "GCzhWDKqQhh4"
      },
      "source": [
        "PyTorch offers domain-specific libraries such as\n",
        "[TorchText](https://pytorch.org/text/stable/index.html),\n",
        "[TorchVision](https://pytorch.org/vision/stable/index.html), and\n",
        "[TorchAudio](https://pytorch.org/audio/stable/index.html), all of which\n",
        "include datasets. For this tutorial, we will be using a TorchVision\n",
        "dataset.\n",
        "\n",
        "The `torchvision.datasets` module contains `Dataset` objects for many\n",
        "real-world vision data like CIFAR, COCO ([full list\n",
        "here](https://pytorch.org/vision/stable/datasets.html)). In this\n",
        "tutorial, we use the FashionMNIST dataset. Every TorchVision `Dataset`\n",
        "includes two arguments: `transform` and `target_transform` to modify the\n",
        "samples and labels respectively.\n"
      ]
    },
    {
      "cell_type": "code",
      "execution_count": 3,
      "metadata": {
        "colab": {
          "base_uri": "https://localhost:8080/",
          "height": 0
        },
        "id": "uZVuMOxIQhh5",
        "outputId": "a7dad932-25e5-4dc6-c441-94c598dd2c3f"
      },
      "outputs": [
        {
          "output_type": "stream",
          "name": "stdout",
          "text": [
            "Downloading http://fashion-mnist.s3-website.eu-central-1.amazonaws.com/train-images-idx3-ubyte.gz\n",
            "Downloading http://fashion-mnist.s3-website.eu-central-1.amazonaws.com/train-images-idx3-ubyte.gz to data/FashionMNIST/raw/train-images-idx3-ubyte.gz\n"
          ]
        },
        {
          "output_type": "stream",
          "name": "stderr",
          "text": [
            "100%|██████████| 26.4M/26.4M [00:02<00:00, 9.02MB/s]\n"
          ]
        },
        {
          "output_type": "stream",
          "name": "stdout",
          "text": [
            "Extracting data/FashionMNIST/raw/train-images-idx3-ubyte.gz to data/FashionMNIST/raw\n",
            "\n",
            "Downloading http://fashion-mnist.s3-website.eu-central-1.amazonaws.com/train-labels-idx1-ubyte.gz\n",
            "Downloading http://fashion-mnist.s3-website.eu-central-1.amazonaws.com/train-labels-idx1-ubyte.gz to data/FashionMNIST/raw/train-labels-idx1-ubyte.gz\n"
          ]
        },
        {
          "output_type": "stream",
          "name": "stderr",
          "text": [
            "100%|██████████| 29.5k/29.5k [00:00<00:00, 198kB/s]\n"
          ]
        },
        {
          "output_type": "stream",
          "name": "stdout",
          "text": [
            "Extracting data/FashionMNIST/raw/train-labels-idx1-ubyte.gz to data/FashionMNIST/raw\n",
            "\n",
            "Downloading http://fashion-mnist.s3-website.eu-central-1.amazonaws.com/t10k-images-idx3-ubyte.gz\n",
            "Downloading http://fashion-mnist.s3-website.eu-central-1.amazonaws.com/t10k-images-idx3-ubyte.gz to data/FashionMNIST/raw/t10k-images-idx3-ubyte.gz\n"
          ]
        },
        {
          "output_type": "stream",
          "name": "stderr",
          "text": [
            "100%|██████████| 4.42M/4.42M [00:01<00:00, 3.64MB/s]\n"
          ]
        },
        {
          "output_type": "stream",
          "name": "stdout",
          "text": [
            "Extracting data/FashionMNIST/raw/t10k-images-idx3-ubyte.gz to data/FashionMNIST/raw\n",
            "\n",
            "Downloading http://fashion-mnist.s3-website.eu-central-1.amazonaws.com/t10k-labels-idx1-ubyte.gz\n",
            "Downloading http://fashion-mnist.s3-website.eu-central-1.amazonaws.com/t10k-labels-idx1-ubyte.gz to data/FashionMNIST/raw/t10k-labels-idx1-ubyte.gz\n"
          ]
        },
        {
          "output_type": "stream",
          "name": "stderr",
          "text": [
            "100%|██████████| 5.15k/5.15k [00:00<00:00, 6.00MB/s]"
          ]
        },
        {
          "output_type": "stream",
          "name": "stdout",
          "text": [
            "Extracting data/FashionMNIST/raw/t10k-labels-idx1-ubyte.gz to data/FashionMNIST/raw\n",
            "\n"
          ]
        },
        {
          "output_type": "stream",
          "name": "stderr",
          "text": [
            "\n"
          ]
        }
      ],
      "source": [
        "# Download training data from open datasets.\n",
        "training_data = datasets.FashionMNIST(\n",
        "    root=\"data\",\n",
        "    train=True,\n",
        "    download=True,\n",
        "    transform=ToTensor(),\n",
        ")\n",
        "\n",
        "# Download test data from open datasets.\n",
        "test_data = datasets.FashionMNIST(\n",
        "    root=\"data\",\n",
        "    train=False,\n",
        "    download=True,\n",
        "    transform=ToTensor(),\n",
        ")"
      ]
    },
    {
      "cell_type": "markdown",
      "metadata": {
        "id": "Ui8Qbje1Qhh5"
      },
      "source": [
        "We pass the `Dataset` as an argument to `DataLoader`. This wraps an\n",
        "iterable over our dataset, and supports automatic batching, sampling,\n",
        "shuffling and multiprocess data loading. Here we define a batch size of\n",
        "64, i.e. each element in the dataloader iterable will return a batch of\n",
        "64 features and labels.\n"
      ]
    },
    {
      "cell_type": "code",
      "execution_count": 4,
      "metadata": {
        "colab": {
          "base_uri": "https://localhost:8080/",
          "height": 0
        },
        "id": "pAiWLOTmQhh5",
        "outputId": "f209926b-dfe5-4f49-888c-c2e328aca17d"
      },
      "outputs": [
        {
          "output_type": "stream",
          "name": "stdout",
          "text": [
            "Shape of X [N, C, H, W]: torch.Size([64, 1, 28, 28])\n",
            "Shape of y: torch.Size([64]) torch.int64\n"
          ]
        }
      ],
      "source": [
        "batch_size = 64\n",
        "\n",
        "# Create data loaders.\n",
        "train_dataloader = DataLoader(training_data, batch_size=batch_size)\n",
        "test_dataloader = DataLoader(test_data, batch_size=batch_size)\n",
        "\n",
        "for X, y in test_dataloader:\n",
        "    print(f\"Shape of X [N, C, H, W]: {X.shape}\")\n",
        "    print(f\"Shape of y: {y.shape} {y.dtype}\")\n",
        "    break"
      ]
    },
    {
      "cell_type": "markdown",
      "metadata": {
        "id": "ngRfE0FpQhh5"
      },
      "source": [
        "Read more about [loading data in PyTorch](data_tutorial.html).\n"
      ]
    },
    {
      "cell_type": "markdown",
      "metadata": {
        "id": "jGlTZIDIQhh5"
      },
      "source": [
        "------------------------------------------------------------------------\n"
      ]
    },
    {
      "cell_type": "markdown",
      "metadata": {
        "id": "n_g1Js58Qhh5"
      },
      "source": [
        "Creating Models\n",
        "===============\n",
        "\n",
        "To define a neural network in PyTorch, we create a class that inherits\n",
        "from\n",
        "[nn.Module](https://pytorch.org/docs/stable/generated/torch.nn.Module.html).\n",
        "We define the layers of the network in the `__init__` function and\n",
        "specify how data will pass through the network in the `forward`\n",
        "function. To accelerate operations in the neural network, we move it to\n",
        "the GPU or MPS if available.\n"
      ]
    },
    {
      "cell_type": "code",
      "execution_count": 5,
      "metadata": {
        "colab": {
          "base_uri": "https://localhost:8080/",
          "height": 0
        },
        "id": "yUv8EWn-Qhh5",
        "outputId": "2c15be5f-4fa3-4b08-95a7-3731fbe3181c"
      },
      "outputs": [
        {
          "output_type": "stream",
          "name": "stdout",
          "text": [
            "Using cuda device\n",
            "NeuralNetwork(\n",
            "  (flatten): Flatten(start_dim=1, end_dim=-1)\n",
            "  (linear_relu_stack): Sequential(\n",
            "    (0): Linear(in_features=784, out_features=512, bias=True)\n",
            "    (1): ReLU()\n",
            "    (2): Linear(in_features=512, out_features=512, bias=True)\n",
            "    (3): ReLU()\n",
            "    (4): Linear(in_features=512, out_features=10, bias=True)\n",
            "  )\n",
            ")\n"
          ]
        }
      ],
      "source": [
        "# Get cpu, gpu or mps device for training.\n",
        "device = (\n",
        "    \"cuda\"\n",
        "    if torch.cuda.is_available()\n",
        "    else \"mps\"\n",
        "    if torch.backends.mps.is_available()\n",
        "    else \"cpu\"\n",
        ")\n",
        "print(f\"Using {device} device\")\n",
        "\n",
        "# Define model\n",
        "class NeuralNetwork(nn.Module):\n",
        "    def __init__(self):\n",
        "        super().__init__()\n",
        "        self.flatten = nn.Flatten()\n",
        "        self.linear_relu_stack = nn.Sequential(\n",
        "            nn.Linear(28*28, 512),\n",
        "            nn.ReLU(),\n",
        "            nn.Linear(512, 512),\n",
        "            nn.ReLU(),\n",
        "            nn.Linear(512, 10)\n",
        "        )\n",
        "\n",
        "    def forward(self, x):\n",
        "        x = self.flatten(x)\n",
        "        logits = self.linear_relu_stack(x)\n",
        "        return logits\n",
        "\n",
        "model = NeuralNetwork().to(device)\n",
        "print(model)"
      ]
    },
    {
      "cell_type": "markdown",
      "metadata": {
        "id": "uzCBqZPHQhh5"
      },
      "source": [
        "Read more about [building neural networks in\n",
        "PyTorch](buildmodel_tutorial.html).\n"
      ]
    },
    {
      "cell_type": "markdown",
      "metadata": {
        "id": "nXcVaeyXQhh6"
      },
      "source": [
        "------------------------------------------------------------------------\n"
      ]
    },
    {
      "cell_type": "markdown",
      "metadata": {
        "id": "C6dtPdjhQhh6"
      },
      "source": [
        "Optimizing the Model Parameters\n",
        "===============================\n",
        "\n",
        "To train a model, we need a [loss\n",
        "function](https://pytorch.org/docs/stable/nn.html#loss-functions) and an\n",
        "[optimizer](https://pytorch.org/docs/stable/optim.html).\n"
      ]
    },
    {
      "cell_type": "code",
      "execution_count": 6,
      "metadata": {
        "id": "UilkLcFRQhh6"
      },
      "outputs": [],
      "source": [
        "loss_fn = nn.CrossEntropyLoss()\n",
        "optimizer = torch.optim.SGD(model.parameters(), lr=1e-3)"
      ]
    },
    {
      "cell_type": "markdown",
      "metadata": {
        "id": "-R66YJ_QQhh6"
      },
      "source": [
        "In a single training loop, the model makes predictions on the training\n",
        "dataset (fed to it in batches), and backpropagates the prediction error\n",
        "to adjust the model\\'s parameters.\n"
      ]
    },
    {
      "cell_type": "code",
      "execution_count": 7,
      "metadata": {
        "id": "6486DrurQhh6"
      },
      "outputs": [],
      "source": [
        "def train(dataloader, model, loss_fn, optimizer):\n",
        "    size = len(dataloader.dataset)\n",
        "    model.train()\n",
        "    for batch, (X, y) in enumerate(dataloader):\n",
        "        X, y = X.to(device), y.to(device)\n",
        "\n",
        "        # Compute prediction error\n",
        "        pred = model(X)\n",
        "        loss = loss_fn(pred, y)\n",
        "\n",
        "        # Backpropagation\n",
        "        loss.backward()\n",
        "        optimizer.step()\n",
        "        optimizer.zero_grad()\n",
        "\n",
        "        if batch % 100 == 0:\n",
        "            loss, current = loss.item(), (batch + 1) * len(X)\n",
        "            print(f\"loss: {loss:>7f}  [{current:>5d}/{size:>5d}]\")"
      ]
    },
    {
      "cell_type": "markdown",
      "metadata": {
        "id": "hD-nrINUQhh6"
      },
      "source": [
        "We also check the model\\'s performance against the test dataset to\n",
        "ensure it is learning.\n"
      ]
    },
    {
      "cell_type": "code",
      "execution_count": 8,
      "metadata": {
        "id": "9hbCfWQ9Qhh6"
      },
      "outputs": [],
      "source": [
        "def test(dataloader, model, loss_fn):\n",
        "    size = len(dataloader.dataset)\n",
        "    num_batches = len(dataloader)\n",
        "    model.eval()\n",
        "    test_loss, correct = 0, 0\n",
        "    with torch.no_grad():\n",
        "        for X, y in dataloader:\n",
        "            X, y = X.to(device), y.to(device)\n",
        "            pred = model(X)\n",
        "            test_loss += loss_fn(pred, y).item()\n",
        "            correct += (pred.argmax(1) == y).type(torch.float).sum().item()\n",
        "    test_loss /= num_batches\n",
        "    correct /= size\n",
        "    print(f\"Test Error: \\n Accuracy: {(100*correct):>0.1f}%, Avg loss: {test_loss:>8f} \\n\")"
      ]
    },
    {
      "cell_type": "markdown",
      "metadata": {
        "id": "C3WkSNLRQhh6"
      },
      "source": [
        "The training process is conducted over several iterations (*epochs*).\n",
        "During each epoch, the model learns parameters to make better\n",
        "predictions. We print the model\\'s accuracy and loss at each epoch;\n",
        "we\\'d like to see the accuracy increase and the loss decrease with every\n",
        "epoch.\n"
      ]
    },
    {
      "cell_type": "code",
      "execution_count": 14,
      "metadata": {
        "colab": {
          "base_uri": "https://localhost:8080/",
          "height": 0
        },
        "id": "dVRk8_DnQhh6",
        "outputId": "716e6b91-1c4d-48ff-c660-5392277224ac"
      },
      "outputs": [
        {
          "output_type": "stream",
          "name": "stdout",
          "text": [
            "Epoch 1\n",
            "-------------------------------\n",
            "loss: 0.601284  [   64/60000]\n",
            "loss: 0.709030  [ 6464/60000]\n",
            "loss: 0.486299  [12864/60000]\n",
            "loss: 0.719938  [19264/60000]\n",
            "loss: 0.639393  [25664/60000]\n",
            "loss: 0.620995  [32064/60000]\n",
            "loss: 0.685446  [38464/60000]\n",
            "loss: 0.707583  [44864/60000]\n",
            "loss: 0.678571  [51264/60000]\n",
            "loss: 0.673049  [57664/60000]\n",
            "Test Error: \n",
            " Accuracy: 77.1%, Avg loss: 0.654408 \n",
            "\n",
            "Epoch 2\n",
            "-------------------------------\n",
            "loss: 0.601284  [   64/60000]\n",
            "loss: 0.709030  [ 6464/60000]\n",
            "loss: 0.486299  [12864/60000]\n",
            "loss: 0.719938  [19264/60000]\n",
            "loss: 0.639393  [25664/60000]\n",
            "loss: 0.620995  [32064/60000]\n",
            "loss: 0.685446  [38464/60000]\n",
            "loss: 0.707583  [44864/60000]\n",
            "loss: 0.678571  [51264/60000]\n",
            "loss: 0.673049  [57664/60000]\n",
            "Test Error: \n",
            " Accuracy: 77.1%, Avg loss: 0.654408 \n",
            "\n",
            "Epoch 3\n",
            "-------------------------------\n",
            "loss: 0.601284  [   64/60000]\n",
            "loss: 0.709030  [ 6464/60000]\n",
            "loss: 0.486299  [12864/60000]\n",
            "loss: 0.719938  [19264/60000]\n",
            "loss: 0.639393  [25664/60000]\n",
            "loss: 0.620995  [32064/60000]\n",
            "loss: 0.685446  [38464/60000]\n",
            "loss: 0.707583  [44864/60000]\n",
            "loss: 0.678571  [51264/60000]\n",
            "loss: 0.673049  [57664/60000]\n",
            "Test Error: \n",
            " Accuracy: 77.1%, Avg loss: 0.654408 \n",
            "\n",
            "Epoch 4\n",
            "-------------------------------\n",
            "loss: 0.601284  [   64/60000]\n",
            "loss: 0.709030  [ 6464/60000]\n",
            "loss: 0.486299  [12864/60000]\n",
            "loss: 0.719938  [19264/60000]\n",
            "loss: 0.639393  [25664/60000]\n",
            "loss: 0.620995  [32064/60000]\n",
            "loss: 0.685446  [38464/60000]\n",
            "loss: 0.707583  [44864/60000]\n",
            "loss: 0.678571  [51264/60000]\n",
            "loss: 0.673049  [57664/60000]\n",
            "Test Error: \n",
            " Accuracy: 77.1%, Avg loss: 0.654408 \n",
            "\n",
            "Epoch 5\n",
            "-------------------------------\n",
            "loss: 0.601284  [   64/60000]\n",
            "loss: 0.709030  [ 6464/60000]\n",
            "loss: 0.486299  [12864/60000]\n",
            "loss: 0.719938  [19264/60000]\n",
            "loss: 0.639393  [25664/60000]\n",
            "loss: 0.620995  [32064/60000]\n",
            "loss: 0.685446  [38464/60000]\n",
            "loss: 0.707583  [44864/60000]\n",
            "loss: 0.678571  [51264/60000]\n",
            "loss: 0.673049  [57664/60000]\n",
            "Test Error: \n",
            " Accuracy: 77.1%, Avg loss: 0.654408 \n",
            "\n",
            "Done!\n"
          ]
        }
      ],
      "source": [
        "epochs = 5\n",
        "for t in range(epochs):\n",
        "    print(f\"Epoch {t+1}\\n-------------------------------\")\n",
        "    train(train_dataloader, model, loss_fn, optimizer)\n",
        "    test(test_dataloader, model, loss_fn)\n",
        "print(\"Done!\")"
      ]
    },
    {
      "cell_type": "markdown",
      "source": [
        "**Discussion:**\n",
        "</br>\n",
        "The accuracy improved from 68.3% to 77.1% in the first 5 epochs, showing that the model was learning effectively. After 5 epochs, the accuracy plateaued at 77.1%, meaning further training didn’t improve the results. This suggests that 5 epochs were enough for the model to converge, and training longer only wasted computational resources without any benefit."
      ],
      "metadata": {
        "id": "R_ZxWl7CUhX6"
      }
    },
    {
      "cell_type": "markdown",
      "metadata": {
        "id": "-E541MqlQhh6"
      },
      "source": [
        "Read more about [Training your model](optimization_tutorial.html).\n"
      ]
    },
    {
      "cell_type": "markdown",
      "metadata": {
        "id": "L4FA3YJMQhh6"
      },
      "source": [
        "------------------------------------------------------------------------\n"
      ]
    },
    {
      "cell_type": "markdown",
      "metadata": {
        "id": "z7lMOpRCQhh7"
      },
      "source": [
        "Saving Models\n",
        "=============\n",
        "\n",
        "A common way to save a model is to serialize the internal state\n",
        "dictionary (containing the model parameters).\n"
      ]
    },
    {
      "cell_type": "code",
      "execution_count": 11,
      "metadata": {
        "colab": {
          "base_uri": "https://localhost:8080/",
          "height": 0
        },
        "id": "67xpwk0uQhh7",
        "outputId": "1878c35b-2ce6-4a12-b3c7-c34b30b88111"
      },
      "outputs": [
        {
          "output_type": "stream",
          "name": "stdout",
          "text": [
            "Saved PyTorch Model State to model.pth\n"
          ]
        }
      ],
      "source": [
        "torch.save(model.state_dict(), \"model.pth\")\n",
        "print(\"Saved PyTorch Model State to model.pth\")"
      ]
    },
    {
      "cell_type": "markdown",
      "metadata": {
        "id": "MsjDAfMYQhh7"
      },
      "source": [
        "Loading Models\n",
        "==============\n",
        "\n",
        "The process for loading a model includes re-creating the model structure\n",
        "and loading the state dictionary into it.\n"
      ]
    },
    {
      "cell_type": "code",
      "execution_count": 12,
      "metadata": {
        "colab": {
          "base_uri": "https://localhost:8080/",
          "height": 0
        },
        "id": "EPHSSwokQhh7",
        "outputId": "30feab94-bab8-4a1e-89b6-7745f3bf0dce"
      },
      "outputs": [
        {
          "output_type": "execute_result",
          "data": {
            "text/plain": [
              "<All keys matched successfully>"
            ]
          },
          "metadata": {},
          "execution_count": 12
        }
      ],
      "source": [
        "model = NeuralNetwork().to(device)\n",
        "model.load_state_dict(torch.load(\"model.pth\", weights_only=True))"
      ]
    },
    {
      "cell_type": "markdown",
      "metadata": {
        "id": "hxKoKKK-Qhh7"
      },
      "source": [
        "This model can now be used to make predictions.\n"
      ]
    },
    {
      "cell_type": "code",
      "execution_count": 13,
      "metadata": {
        "colab": {
          "base_uri": "https://localhost:8080/",
          "height": 0
        },
        "id": "e5MENoshQhh7",
        "outputId": "4c3c63e4-9118-4d16-cf02-401afc0d7ad6"
      },
      "outputs": [
        {
          "output_type": "stream",
          "name": "stdout",
          "text": [
            "Predicted: \"Ankle boot\", Actual: \"Ankle boot\"\n"
          ]
        }
      ],
      "source": [
        "classes = [\n",
        "    \"T-shirt/top\",\n",
        "    \"Trouser\",\n",
        "    \"Pullover\",\n",
        "    \"Dress\",\n",
        "    \"Coat\",\n",
        "    \"Sandal\",\n",
        "    \"Shirt\",\n",
        "    \"Sneaker\",\n",
        "    \"Bag\",\n",
        "    \"Ankle boot\",\n",
        "]\n",
        "\n",
        "model.eval()\n",
        "x, y = test_data[0][0], test_data[0][1]\n",
        "with torch.no_grad():\n",
        "    x = x.to(device)\n",
        "    pred = model(x)\n",
        "    predicted, actual = classes[pred[0].argmax(0)], classes[y]\n",
        "    print(f'Predicted: \"{predicted}\", Actual: \"{actual}\"')"
      ]
    },
    {
      "cell_type": "code",
      "source": [
        "class MyNetwork1(nn.Module):\n",
        "    def __init__(self):\n",
        "        super().__init__()\n",
        "        self.flatten = nn.Flatten()\n",
        "        self.linear_relu_stack = nn.Sequential(\n",
        "            nn.Linear(28*28, 1024),  # Increased hidden layer size\n",
        "            nn.ReLU(),\n",
        "            nn.Linear(1024, 1024),\n",
        "            nn.ReLU(),\n",
        "            nn.Linear(1024, 10)     # Output layer remains the same\n",
        "        )\n",
        "\n",
        "    def forward(self, x):\n",
        "        x = self.flatten(x)\n",
        "        logits = self.linear_relu_stack(x)\n",
        "        return logits\n",
        "\n",
        "model = MyNetwork1().to(device)\n",
        "print(model)"
      ],
      "metadata": {
        "colab": {
          "base_uri": "https://localhost:8080/",
          "height": 0
        },
        "id": "8eEnWmpLXgMG",
        "outputId": "7170a3e9-66ee-440e-8bc9-64c345fe0d76"
      },
      "execution_count": 16,
      "outputs": [
        {
          "output_type": "stream",
          "name": "stdout",
          "text": [
            "MyNetwork1(\n",
            "  (flatten): Flatten(start_dim=1, end_dim=-1)\n",
            "  (linear_relu_stack): Sequential(\n",
            "    (0): Linear(in_features=784, out_features=1024, bias=True)\n",
            "    (1): ReLU()\n",
            "    (2): Linear(in_features=1024, out_features=1024, bias=True)\n",
            "    (3): ReLU()\n",
            "    (4): Linear(in_features=1024, out_features=10, bias=True)\n",
            "  )\n",
            ")\n"
          ]
        }
      ]
    },
    {
      "cell_type": "code",
      "source": [
        "model = MyNetwork1().to(device)\n",
        "optimizer = torch.optim.SGD(model.parameters(), lr=1e-2)\n",
        "\n",
        "epochs = 5\n",
        "for t in range(epochs):\n",
        "    print(f\"Epoch {t+1}\\n-------------------------------\")\n",
        "    train(train_dataloader, model, loss_fn, optimizer)\n",
        "    test(test_dataloader, model, loss_fn)\n",
        "print(\"Done!\")"
      ],
      "metadata": {
        "colab": {
          "base_uri": "https://localhost:8080/",
          "height": 0
        },
        "id": "HlEwH5oWYp9a",
        "outputId": "d019b6b3-6c84-46df-c779-90d93ddf8947"
      },
      "execution_count": 17,
      "outputs": [
        {
          "output_type": "stream",
          "name": "stdout",
          "text": [
            "Epoch 1\n",
            "-------------------------------\n",
            "loss: 2.322689  [   64/60000]\n",
            "loss: 2.105378  [ 6464/60000]\n",
            "loss: 1.652731  [12864/60000]\n",
            "loss: 1.378951  [19264/60000]\n",
            "loss: 1.036821  [25664/60000]\n",
            "loss: 0.955205  [32064/60000]\n",
            "loss: 0.948035  [38464/60000]\n",
            "loss: 0.818610  [44864/60000]\n",
            "loss: 0.833212  [51264/60000]\n",
            "loss: 0.771693  [57664/60000]\n",
            "Test Error: \n",
            " Accuracy: 72.7%, Avg loss: 0.755300 \n",
            "\n",
            "Epoch 2\n",
            "-------------------------------\n",
            "loss: 0.747797  [   64/60000]\n",
            "loss: 0.806851  [ 6464/60000]\n",
            "loss: 0.553385  [12864/60000]\n",
            "loss: 0.752311  [19264/60000]\n",
            "loss: 0.642289  [25664/60000]\n",
            "loss: 0.613460  [32064/60000]\n",
            "loss: 0.684041  [38464/60000]\n",
            "loss: 0.659472  [44864/60000]\n",
            "loss: 0.695873  [51264/60000]\n",
            "loss: 0.620670  [57664/60000]\n",
            "Test Error: \n",
            " Accuracy: 78.9%, Avg loss: 0.609907 \n",
            "\n",
            "Epoch 3\n",
            "-------------------------------\n",
            "loss: 0.533922  [   64/60000]\n",
            "loss: 0.625997  [ 6464/60000]\n",
            "loss: 0.420797  [12864/60000]\n",
            "loss: 0.638461  [19264/60000]\n",
            "loss: 0.560319  [25664/60000]\n",
            "loss: 0.535612  [32064/60000]\n",
            "loss: 0.582276  [38464/60000]\n",
            "loss: 0.633464  [44864/60000]\n",
            "loss: 0.670820  [51264/60000]\n",
            "loss: 0.537800  [57664/60000]\n",
            "Test Error: \n",
            " Accuracy: 80.2%, Avg loss: 0.556900 \n",
            "\n",
            "Epoch 4\n",
            "-------------------------------\n",
            "loss: 0.448970  [   64/60000]\n",
            "loss: 0.548614  [ 6464/60000]\n",
            "loss: 0.366353  [12864/60000]\n",
            "loss: 0.577255  [19264/60000]\n",
            "loss: 0.506300  [25664/60000]\n",
            "loss: 0.494014  [32064/60000]\n",
            "loss: 0.535340  [38464/60000]\n",
            "loss: 0.633971  [44864/60000]\n",
            "loss: 0.650914  [51264/60000]\n",
            "loss: 0.481883  [57664/60000]\n",
            "Test Error: \n",
            " Accuracy: 80.9%, Avg loss: 0.530079 \n",
            "\n",
            "Epoch 5\n",
            "-------------------------------\n",
            "loss: 0.396714  [   64/60000]\n",
            "loss: 0.509542  [ 6464/60000]\n",
            "loss: 0.334537  [12864/60000]\n",
            "loss: 0.537407  [19264/60000]\n",
            "loss: 0.471256  [25664/60000]\n",
            "loss: 0.468425  [32064/60000]\n",
            "loss: 0.504689  [38464/60000]\n",
            "loss: 0.626290  [44864/60000]\n",
            "loss: 0.625965  [51264/60000]\n",
            "loss: 0.448921  [57664/60000]\n",
            "Test Error: \n",
            " Accuracy: 81.5%, Avg loss: 0.511961 \n",
            "\n",
            "Done!\n"
          ]
        }
      ]
    },
    {
      "cell_type": "markdown",
      "source": [
        "In Run 1, the accuracy stayed at 77.1% across all 5 epochs, showing no improvement after the first epoch. In Run 2, accuracy improved from 72.7% to 81.5% over 5 epochs, and the loss steadily decreased. The changes in the network architecture or training parameters in Run 2 helped the model learn better and generalize more effectively, leading to higher accuracy."
      ],
      "metadata": {
        "id": "6KN7CHVifZCc"
      }
    },
    {
      "cell_type": "code",
      "source": [
        "class MyNetwork2(nn.Module):\n",
        "    def __init__(self):\n",
        "        super().__init__()\n",
        "        self.flatten = nn.Flatten()\n",
        "        self.linear_relu_stack = nn.Sequential(\n",
        "            nn.Linear(28*28, 512),\n",
        "            nn.BatchNorm1d(512),\n",
        "            nn.ReLU(),\n",
        "            nn.Linear(512, 512),\n",
        "            nn.BatchNorm1d(512),\n",
        "            nn.ReLU(),\n",
        "            nn.Linear(512, 256),\n",
        "            nn.BatchNorm1d(256),\n",
        "            nn.ReLU(),\n",
        "            nn.Linear(256, 128),\n",
        "            nn.BatchNorm1d(128),\n",
        "            nn.ReLU(),\n",
        "            nn.Linear(128, 10)\n",
        "        )\n",
        "\n",
        "    def forward(self, x):\n",
        "        x = self.flatten(x)\n",
        "        logits = self.linear_relu_stack(x)\n",
        "        return logits\n",
        "\n",
        "model = MyNetwork2().to(device)\n",
        "print(model)"
      ],
      "metadata": {
        "colab": {
          "base_uri": "https://localhost:8080/",
          "height": 0
        },
        "id": "rmZaK5XGgCST",
        "outputId": "8ffd1e2a-234a-4cc6-debc-d1e669b00832"
      },
      "execution_count": 24,
      "outputs": [
        {
          "output_type": "stream",
          "name": "stdout",
          "text": [
            "MyNetwork2(\n",
            "  (flatten): Flatten(start_dim=1, end_dim=-1)\n",
            "  (linear_relu_stack): Sequential(\n",
            "    (0): Linear(in_features=784, out_features=512, bias=True)\n",
            "    (1): BatchNorm1d(512, eps=1e-05, momentum=0.1, affine=True, track_running_stats=True)\n",
            "    (2): ReLU()\n",
            "    (3): Linear(in_features=512, out_features=512, bias=True)\n",
            "    (4): BatchNorm1d(512, eps=1e-05, momentum=0.1, affine=True, track_running_stats=True)\n",
            "    (5): ReLU()\n",
            "    (6): Linear(in_features=512, out_features=256, bias=True)\n",
            "    (7): BatchNorm1d(256, eps=1e-05, momentum=0.1, affine=True, track_running_stats=True)\n",
            "    (8): ReLU()\n",
            "    (9): Linear(in_features=256, out_features=128, bias=True)\n",
            "    (10): BatchNorm1d(128, eps=1e-05, momentum=0.1, affine=True, track_running_stats=True)\n",
            "    (11): ReLU()\n",
            "    (12): Linear(in_features=128, out_features=10, bias=True)\n",
            "  )\n",
            ")\n"
          ]
        }
      ]
    },
    {
      "cell_type": "code",
      "source": [
        "import torch.optim as optim\n",
        "from torch.optim.lr_scheduler import StepLR\n",
        "\n",
        "model = MyNetwork2().to(device)\n",
        "optimizer = optim.Adam(model.parameters(), lr=1e-3)\n",
        "scheduler = StepLR(optimizer, step_size=5, gamma=0.5)\n",
        "\n",
        "epochs = 20\n",
        "for t in range(epochs):\n",
        "    print(f\"Epoch {t+1}\\n-------------------------------\")\n",
        "    train(train_dataloader, model, loss_fn, optimizer)\n",
        "    test(test_dataloader, model, loss_fn)\n",
        "    scheduler.step()\n",
        "print(\"Done!\")"
      ],
      "metadata": {
        "colab": {
          "base_uri": "https://localhost:8080/",
          "height": 0
        },
        "id": "Ts0PILe7gOl9",
        "outputId": "f341e8e5-7dee-4ab6-c277-effb2c32b54d"
      },
      "execution_count": 26,
      "outputs": [
        {
          "output_type": "stream",
          "name": "stdout",
          "text": [
            "Epoch 1\n",
            "-------------------------------\n",
            "loss: 2.277439  [   64/60000]\n",
            "loss: 0.510960  [ 6464/60000]\n",
            "loss: 0.417089  [12864/60000]\n",
            "loss: 0.536605  [19264/60000]\n",
            "loss: 0.512476  [25664/60000]\n",
            "loss: 0.441637  [32064/60000]\n",
            "loss: 0.338571  [38464/60000]\n",
            "loss: 0.508354  [44864/60000]\n",
            "loss: 0.385761  [51264/60000]\n",
            "loss: 0.452407  [57664/60000]\n",
            "Test Error: \n",
            " Accuracy: 83.9%, Avg loss: 0.418262 \n",
            "\n",
            "Epoch 2\n",
            "-------------------------------\n",
            "loss: 0.392558  [   64/60000]\n",
            "loss: 0.333193  [ 6464/60000]\n",
            "loss: 0.297315  [12864/60000]\n",
            "loss: 0.310737  [19264/60000]\n",
            "loss: 0.363921  [25664/60000]\n",
            "loss: 0.341404  [32064/60000]\n",
            "loss: 0.268131  [38464/60000]\n",
            "loss: 0.395197  [44864/60000]\n",
            "loss: 0.318056  [51264/60000]\n",
            "loss: 0.358000  [57664/60000]\n",
            "Test Error: \n",
            " Accuracy: 85.7%, Avg loss: 0.378293 \n",
            "\n",
            "Epoch 3\n",
            "-------------------------------\n",
            "loss: 0.260457  [   64/60000]\n",
            "loss: 0.346317  [ 6464/60000]\n",
            "loss: 0.227383  [12864/60000]\n",
            "loss: 0.259849  [19264/60000]\n",
            "loss: 0.331448  [25664/60000]\n",
            "loss: 0.298841  [32064/60000]\n",
            "loss: 0.256750  [38464/60000]\n",
            "loss: 0.329839  [44864/60000]\n",
            "loss: 0.303736  [51264/60000]\n",
            "loss: 0.329434  [57664/60000]\n",
            "Test Error: \n",
            " Accuracy: 86.2%, Avg loss: 0.366364 \n",
            "\n",
            "Epoch 4\n",
            "-------------------------------\n",
            "loss: 0.251931  [   64/60000]\n",
            "loss: 0.276334  [ 6464/60000]\n",
            "loss: 0.218216  [12864/60000]\n",
            "loss: 0.205016  [19264/60000]\n",
            "loss: 0.313075  [25664/60000]\n",
            "loss: 0.264166  [32064/60000]\n",
            "loss: 0.185646  [38464/60000]\n",
            "loss: 0.288755  [44864/60000]\n",
            "loss: 0.281227  [51264/60000]\n",
            "loss: 0.317866  [57664/60000]\n",
            "Test Error: \n",
            " Accuracy: 86.2%, Avg loss: 0.378566 \n",
            "\n",
            "Epoch 5\n",
            "-------------------------------\n",
            "loss: 0.232396  [   64/60000]\n",
            "loss: 0.281027  [ 6464/60000]\n",
            "loss: 0.195658  [12864/60000]\n",
            "loss: 0.199661  [19264/60000]\n",
            "loss: 0.288976  [25664/60000]\n",
            "loss: 0.242367  [32064/60000]\n",
            "loss: 0.160024  [38464/60000]\n",
            "loss: 0.250992  [44864/60000]\n",
            "loss: 0.278146  [51264/60000]\n",
            "loss: 0.255683  [57664/60000]\n",
            "Test Error: \n",
            " Accuracy: 86.9%, Avg loss: 0.364453 \n",
            "\n",
            "Epoch 6\n",
            "-------------------------------\n",
            "loss: 0.211308  [   64/60000]\n",
            "loss: 0.205486  [ 6464/60000]\n",
            "loss: 0.188867  [12864/60000]\n",
            "loss: 0.181901  [19264/60000]\n",
            "loss: 0.212955  [25664/60000]\n",
            "loss: 0.184748  [32064/60000]\n",
            "loss: 0.177454  [38464/60000]\n",
            "loss: 0.192210  [44864/60000]\n",
            "loss: 0.212462  [51264/60000]\n",
            "loss: 0.234665  [57664/60000]\n",
            "Test Error: \n",
            " Accuracy: 87.8%, Avg loss: 0.357811 \n",
            "\n",
            "Epoch 7\n",
            "-------------------------------\n",
            "loss: 0.189688  [   64/60000]\n",
            "loss: 0.190652  [ 6464/60000]\n",
            "loss: 0.164802  [12864/60000]\n",
            "loss: 0.150381  [19264/60000]\n",
            "loss: 0.182359  [25664/60000]\n",
            "loss: 0.165239  [32064/60000]\n",
            "loss: 0.153372  [38464/60000]\n",
            "loss: 0.169078  [44864/60000]\n",
            "loss: 0.166366  [51264/60000]\n",
            "loss: 0.144323  [57664/60000]\n",
            "Test Error: \n",
            " Accuracy: 87.6%, Avg loss: 0.385638 \n",
            "\n",
            "Epoch 8\n",
            "-------------------------------\n",
            "loss: 0.181071  [   64/60000]\n",
            "loss: 0.172974  [ 6464/60000]\n",
            "loss: 0.138352  [12864/60000]\n",
            "loss: 0.111140  [19264/60000]\n",
            "loss: 0.183750  [25664/60000]\n",
            "loss: 0.141967  [32064/60000]\n",
            "loss: 0.140943  [38464/60000]\n",
            "loss: 0.153819  [44864/60000]\n",
            "loss: 0.143545  [51264/60000]\n",
            "loss: 0.131889  [57664/60000]\n",
            "Test Error: \n",
            " Accuracy: 87.4%, Avg loss: 0.425196 \n",
            "\n",
            "Epoch 9\n",
            "-------------------------------\n",
            "loss: 0.175500  [   64/60000]\n",
            "loss: 0.126139  [ 6464/60000]\n",
            "loss: 0.147817  [12864/60000]\n",
            "loss: 0.090283  [19264/60000]\n",
            "loss: 0.161563  [25664/60000]\n",
            "loss: 0.119673  [32064/60000]\n",
            "loss: 0.160069  [38464/60000]\n",
            "loss: 0.111187  [44864/60000]\n",
            "loss: 0.134045  [51264/60000]\n",
            "loss: 0.104509  [57664/60000]\n",
            "Test Error: \n",
            " Accuracy: 87.7%, Avg loss: 0.436687 \n",
            "\n",
            "Epoch 10\n",
            "-------------------------------\n",
            "loss: 0.156849  [   64/60000]\n",
            "loss: 0.120023  [ 6464/60000]\n",
            "loss: 0.142362  [12864/60000]\n",
            "loss: 0.076021  [19264/60000]\n",
            "loss: 0.176178  [25664/60000]\n",
            "loss: 0.112817  [32064/60000]\n",
            "loss: 0.130124  [38464/60000]\n",
            "loss: 0.114277  [44864/60000]\n",
            "loss: 0.073880  [51264/60000]\n",
            "loss: 0.078859  [57664/60000]\n",
            "Test Error: \n",
            " Accuracy: 87.7%, Avg loss: 0.466832 \n",
            "\n",
            "Epoch 11\n",
            "-------------------------------\n",
            "loss: 0.129508  [   64/60000]\n",
            "loss: 0.106519  [ 6464/60000]\n",
            "loss: 0.138697  [12864/60000]\n",
            "loss: 0.058365  [19264/60000]\n",
            "loss: 0.082871  [25664/60000]\n",
            "loss: 0.093383  [32064/60000]\n",
            "loss: 0.123220  [38464/60000]\n",
            "loss: 0.048665  [44864/60000]\n",
            "loss: 0.127062  [51264/60000]\n",
            "loss: 0.131290  [57664/60000]\n",
            "Test Error: \n",
            " Accuracy: 89.2%, Avg loss: 0.425070 \n",
            "\n",
            "Epoch 12\n",
            "-------------------------------\n",
            "loss: 0.076039  [   64/60000]\n",
            "loss: 0.093966  [ 6464/60000]\n",
            "loss: 0.121630  [12864/60000]\n",
            "loss: 0.041473  [19264/60000]\n",
            "loss: 0.056937  [25664/60000]\n",
            "loss: 0.070270  [32064/60000]\n",
            "loss: 0.117712  [38464/60000]\n",
            "loss: 0.045891  [44864/60000]\n",
            "loss: 0.062219  [51264/60000]\n",
            "loss: 0.044859  [57664/60000]\n",
            "Test Error: \n",
            " Accuracy: 89.2%, Avg loss: 0.467225 \n",
            "\n",
            "Epoch 13\n",
            "-------------------------------\n",
            "loss: 0.079545  [   64/60000]\n",
            "loss: 0.058205  [ 6464/60000]\n",
            "loss: 0.092841  [12864/60000]\n",
            "loss: 0.034547  [19264/60000]\n",
            "loss: 0.041619  [25664/60000]\n",
            "loss: 0.046315  [32064/60000]\n",
            "loss: 0.110682  [38464/60000]\n",
            "loss: 0.020406  [44864/60000]\n",
            "loss: 0.060983  [51264/60000]\n",
            "loss: 0.022414  [57664/60000]\n",
            "Test Error: \n",
            " Accuracy: 89.0%, Avg loss: 0.515431 \n",
            "\n",
            "Epoch 14\n",
            "-------------------------------\n",
            "loss: 0.067844  [   64/60000]\n",
            "loss: 0.030140  [ 6464/60000]\n",
            "loss: 0.086122  [12864/60000]\n",
            "loss: 0.021003  [19264/60000]\n",
            "loss: 0.030819  [25664/60000]\n",
            "loss: 0.037642  [32064/60000]\n",
            "loss: 0.072422  [38464/60000]\n",
            "loss: 0.012482  [44864/60000]\n",
            "loss: 0.032287  [51264/60000]\n",
            "loss: 0.021527  [57664/60000]\n",
            "Test Error: \n",
            " Accuracy: 89.0%, Avg loss: 0.563109 \n",
            "\n",
            "Epoch 15\n",
            "-------------------------------\n",
            "loss: 0.056949  [   64/60000]\n",
            "loss: 0.024164  [ 6464/60000]\n",
            "loss: 0.070082  [12864/60000]\n",
            "loss: 0.040983  [19264/60000]\n",
            "loss: 0.015527  [25664/60000]\n",
            "loss: 0.062225  [32064/60000]\n",
            "loss: 0.064238  [38464/60000]\n",
            "loss: 0.028984  [44864/60000]\n",
            "loss: 0.023947  [51264/60000]\n",
            "loss: 0.013642  [57664/60000]\n",
            "Test Error: \n",
            " Accuracy: 89.0%, Avg loss: 0.605657 \n",
            "\n",
            "Epoch 16\n",
            "-------------------------------\n",
            "loss: 0.081707  [   64/60000]\n",
            "loss: 0.006970  [ 6464/60000]\n",
            "loss: 0.025379  [12864/60000]\n",
            "loss: 0.012353  [19264/60000]\n",
            "loss: 0.020938  [25664/60000]\n",
            "loss: 0.018525  [32064/60000]\n",
            "loss: 0.044191  [38464/60000]\n",
            "loss: 0.012748  [44864/60000]\n",
            "loss: 0.042037  [51264/60000]\n",
            "loss: 0.020248  [57664/60000]\n",
            "Test Error: \n",
            " Accuracy: 89.5%, Avg loss: 0.573342 \n",
            "\n",
            "Epoch 17\n",
            "-------------------------------\n",
            "loss: 0.049883  [   64/60000]\n",
            "loss: 0.009503  [ 6464/60000]\n",
            "loss: 0.008808  [12864/60000]\n",
            "loss: 0.005676  [19264/60000]\n",
            "loss: 0.010111  [25664/60000]\n",
            "loss: 0.014187  [32064/60000]\n",
            "loss: 0.038523  [38464/60000]\n",
            "loss: 0.009458  [44864/60000]\n",
            "loss: 0.010469  [51264/60000]\n",
            "loss: 0.007273  [57664/60000]\n",
            "Test Error: \n",
            " Accuracy: 89.5%, Avg loss: 0.601080 \n",
            "\n",
            "Epoch 18\n",
            "-------------------------------\n",
            "loss: 0.026198  [   64/60000]\n",
            "loss: 0.003633  [ 6464/60000]\n",
            "loss: 0.007138  [12864/60000]\n",
            "loss: 0.004371  [19264/60000]\n",
            "loss: 0.002935  [25664/60000]\n",
            "loss: 0.006306  [32064/60000]\n",
            "loss: 0.008512  [38464/60000]\n",
            "loss: 0.007573  [44864/60000]\n",
            "loss: 0.008832  [51264/60000]\n",
            "loss: 0.005477  [57664/60000]\n",
            "Test Error: \n",
            " Accuracy: 89.4%, Avg loss: 0.644715 \n",
            "\n",
            "Epoch 19\n",
            "-------------------------------\n",
            "loss: 0.012587  [   64/60000]\n",
            "loss: 0.002966  [ 6464/60000]\n",
            "loss: 0.007226  [12864/60000]\n",
            "loss: 0.003355  [19264/60000]\n",
            "loss: 0.003548  [25664/60000]\n",
            "loss: 0.002688  [32064/60000]\n",
            "loss: 0.004537  [38464/60000]\n",
            "loss: 0.008820  [44864/60000]\n",
            "loss: 0.006693  [51264/60000]\n",
            "loss: 0.005042  [57664/60000]\n",
            "Test Error: \n",
            " Accuracy: 89.5%, Avg loss: 0.672384 \n",
            "\n",
            "Epoch 20\n",
            "-------------------------------\n",
            "loss: 0.017119  [   64/60000]\n",
            "loss: 0.002606  [ 6464/60000]\n",
            "loss: 0.003482  [12864/60000]\n",
            "loss: 0.026893  [19264/60000]\n",
            "loss: 0.001719  [25664/60000]\n",
            "loss: 0.088099  [32064/60000]\n",
            "loss: 0.023560  [38464/60000]\n",
            "loss: 0.007052  [44864/60000]\n",
            "loss: 0.005861  [51264/60000]\n",
            "loss: 0.011522  [57664/60000]\n",
            "Test Error: \n",
            " Accuracy: 89.6%, Avg loss: 0.708406 \n",
            "\n",
            "Done!\n"
          ]
        }
      ]
    },
    {
      "cell_type": "code",
      "source": [
        "import matplotlib.pyplot as plt\n",
        "\n",
        "# Function to find and display three errors\n",
        "def display_errors(model, dataloader, device):\n",
        "    model.eval()  # Set the model to evaluation mode\n",
        "    errors = 0  # Counter for errors\n",
        "\n",
        "    with torch.no_grad():\n",
        "        for data, targets in dataloader:\n",
        "            data, targets = data.to(device), targets.to(device)\n",
        "            outputs = model(data)\n",
        "            _, predictions = torch.max(outputs, 1)\n",
        "            for i in range(len(predictions)):\n",
        "                if predictions[i] != targets[i]:  # Check for misclassification\n",
        "                    img = data[i].squeeze(0)  # Get the image\n",
        "                    ground_truth = targets[i].item()\n",
        "                    prediction = predictions[i].item()\n",
        "\n",
        "                    # Display the misclassified image\n",
        "                    plt.imshow(img.cpu().numpy(), cmap=\"gray\")\n",
        "                    plt.title(f\"Ground Truth: {ground_truth}, Prediction: {prediction}\")\n",
        "                    plt.axis(\"off\")\n",
        "                    plt.show()\n",
        "\n",
        "                    errors += 1\n",
        "                    if errors == 3:  # Stop after displaying 3 errors\n",
        "                        return\n",
        "\n",
        "display_errors(model, test_dataloader, device)"
      ],
      "metadata": {
        "colab": {
          "base_uri": "https://localhost:8080/",
          "height": 1250
        },
        "id": "-WFAjQC8kvlM",
        "outputId": "707822d6-7fc0-4eb7-c222-98e275c163ac"
      },
      "execution_count": 27,
      "outputs": [
        {
          "output_type": "display_data",
          "data": {
            "text/plain": [
              "<Figure size 640x480 with 1 Axes>"
            ],
            "image/png": "[encoded data removed]"
          },
          "metadata": {}
        },
        {
          "output_type": "display_data",
          "data": {
            "text/plain": [
              "<Figure size 640x480 with 1 Axes>"
            ],
            "image/png": "[encoded data removed]"
          },
          "metadata": {}
        },
        {
          "output_type": "display_data",
          "data": {
            "text/plain": [
              "<Figure size 640x480 with 1 Axes>"
            ],
            "image/png": "[encoded data removed]"
          },
          "metadata": {}
        }
      ]
    },
    {
      "cell_type": "markdown",
      "source": [
        "**Disscussion of Errors:**\n",
        "</br>\n",
        "The errors show cases where the model misclassified digits, likely because the images were blurry, poorly written, or had features that looked like another digit (e.g., a “4” looking like a “9”). Some mistakes might also be due to the images being skewed or off-center. These seem like reasonable errors since the dataset might not include enough examples of these edge cases, and the model struggles to generalize perfectly. Improving the dataset or preprocessing could help reduce these mistakes."
      ],
      "metadata": {
        "id": "ZTcBbw9mlrcn"
      }
    },
    {
      "cell_type": "markdown",
      "metadata": {
        "id": "tLBUa_weQhh7"
      },
      "source": [
        "Read more about [Saving & Loading your\n",
        "model](saveloadrun_tutorial.html).\n"
      ]
    }
  ],
  "metadata": {
    "kernelspec": {
      "display_name": "Python 3",
      "name": "python3"
    },
    "language_info": {
      "codemirror_mode": {
        "name": "ipython",
        "version": 3
      },
      "file_extension": ".py",
      "mimetype": "text/x-python",
      "name": "python",
      "nbconvert_exporter": "python",
      "pygments_lexer": "ipython3",
      "version": "3.10.12"
    },
    "colab": {
      "provenance": [],
      "gpuType": "T4"
    },
    "accelerator": "GPU"
  },
  "nbformat": 4,
  "nbformat_minor": 0
}